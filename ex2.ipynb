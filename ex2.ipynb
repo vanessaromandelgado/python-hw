{
 "cells": [
  {
   "cell_type": "code",
   "execution_count": 1,
   "metadata": {},
   "outputs": [
    {
     "name": "stdout",
     "output_type": "stream",
     "text": [
      "senior citizen\n"
     ]
    }
   ],
   "source": [
    "age=input('What is your age?')\n",
    "if age<= '18':\n",
    "    print('child')\n",
    "elif age>='18' and age<='65':\n",
    "    print('adult')\n",
    "else:\n",
    "    print('senior citizen')"
   ]
  }
 ],
 "metadata": {
  "interpreter": {
   "hash": "111f81bb295ba5fc9f3e979d4c3cd35161eb1756c58df035b7aa72a18f9da86e"
  },
  "kernelspec": {
   "display_name": "Python 3.8.8 64-bit ('base': conda)",
   "language": "python",
   "name": "python3"
  },
  "language_info": {
   "codemirror_mode": {
    "name": "ipython",
    "version": 3
   },
   "file_extension": ".py",
   "mimetype": "text/x-python",
   "name": "python",
   "nbconvert_exporter": "python",
   "pygments_lexer": "ipython3",
   "version": "3.8.8"
  },
  "orig_nbformat": 4
 },
 "nbformat": 4,
 "nbformat_minor": 2
}
